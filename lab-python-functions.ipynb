{
 "cells": [
  {
   "cell_type": "markdown",
   "id": "25d7736c-ba17-4aff-b6bb-66eba20fbf4e",
   "metadata": {},
   "source": [
    "# Lab | Functions"
   ]
  },
  {
   "cell_type": "markdown",
   "id": "0c581062-8967-4d93-b06e-62833222f930",
   "metadata": {
    "tags": []
   },
   "source": [
    "## Exercise: Managing Customer Orders with Functions\n",
    "\n",
    "In the previous exercise, you improved the code for managing customer orders by using loops and flow control. Now, let's take it a step further and refactor the code by introducing functions.\n",
    "\n",
    "Follow the steps below to complete the exercise:\n",
    "\n",
    "1. Define a function named `initialize_inventory` that takes `products` as a parameter. Inside the function, implement the code for initializing the inventory dictionary using a loop and user input.\n",
    "\n",
    "2. Define a function named `get_customer_orders` that takes no parameters. Inside the function, implement the code for prompting the user to enter the product names using a loop. The function should return the `customer_orders` set.\n",
    "\n",
    "3. Define a function named `update_inventory` that takes `customer_orders` and `inventory` as parameters. Inside the function, implement the code for updating the inventory dictionary based on the customer orders.\n",
    "\n",
    "4. Define a function named `calculate_order_statistics` that takes `customer_orders` and `products` as parameters. Inside the function, implement the code for calculating the order statistics (total products ordered, and percentage of unique products ordered). The function should return these values.\n",
    "\n",
    "5. Define a function named `print_order_statistics` that takes `order_statistics` as a parameter. Inside the function, implement the code for printing the order statistics.\n",
    "\n",
    "6. Define a function named `print_updated_inventory` that takes `inventory` as a parameter. Inside the function, implement the code for printing the updated inventory.\n",
    "\n",
    "7. Call the functions in the appropriate sequence to execute the program and manage customer orders.\n",
    "\n",
    "Hints for functions:\n",
    "\n",
    "- Consider the input parameters required for each function and their return values.\n",
    "- Utilize function parameters and return values to transfer data between functions.\n",
    "- Test your functions individually to ensure they work correctly.\n",
    "\n",
    "\n"
   ]
  },
  {
   "cell_type": "code",
   "execution_count": 2,
   "id": "0f23ee5d",
   "metadata": {},
   "outputs": [],
   "source": [
    "#1. Define a function named `initialize_inventory` that takes `products` as a parameter. Inside the function, implement the code for initializing the inventory dictionary using a loop and user input.\n",
    "\n",
    "products = [\"t-shirt\", \"mug\", \"hat\", \"book\", \"keychain\"]\n",
    "inventory = {}\n",
    "customer_orders = set()\n",
    "\n",
    "answer = \"yes\"\n",
    "order = []\n",
    "\n",
    "\n",
    "def initialize_inventory(products): \n",
    "    for x in products:\n",
    "        cantidad = input(print(f\"¿Qué cantidad de {x} desea?\"))\n",
    "        inventory[x] = cantidad\n",
    "    print(inventory)\n",
    "    return(inventory)"
   ]
  },
  {
   "cell_type": "code",
   "execution_count": 3,
   "id": "21f59d33",
   "metadata": {},
   "outputs": [],
   "source": [
    "#2. Define a function named `get_customer_orders` that takes no parameters. Inside the function, implement the code for prompting the user to enter the product names using a loop. The function should return the `customer_orders` set.\n",
    "\n",
    "\n",
    "def get_customer_orders():\n",
    "    while answer != \"no\":\n",
    "        order = input(f\"Introduzca un objeto de la lista : {products}\")\n",
    "        if order not in products:\n",
    "            print(f\"{order} no está disponible\")\n",
    "        else:\n",
    "            print(f\"Ha seleccionado {order}\")\n",
    "            customer_orders.add(order)\n",
    "            answer = input(\"¿Quiere añadir otro producto? Responda si o no: \")\n",
    "    return customer_orders"
   ]
  },
  {
   "cell_type": "code",
   "execution_count": 4,
   "id": "93820634",
   "metadata": {},
   "outputs": [],
   "source": [
    "#3. Define a function named `update_inventory` that takes `customer_orders` and `inventory` as parameters. Inside the function, implement the code for updating the inventory dictionary based on the customer orders.\n",
    "def update_inventory(customer_orders, inventory):\n",
    "    while len(customer_orders) < 3:\n",
    "        pedido = input(print(\"Elija un producto\"))\n",
    "    if pedido not in products:\n",
    "        print(\"No tenemos de esto, elija algo de la lista\")\n",
    "    customer_orders.add(pedido)\n",
    "\n",
    "\n"
   ]
  },
  {
   "cell_type": "code",
   "execution_count": 5,
   "id": "d1dac2b8",
   "metadata": {},
   "outputs": [],
   "source": [
    "#4. Define a function named `calculate_order_statistics` that takes `customer_orders` and `products` as parameters. Inside the function, implement the code for calculating the order statistics (total products ordered, and percentage of unique products ordered). The function should return these values.\n",
    "\n",
    "\n",
    "def calculate_order_statistics(customer_orders, products):\n",
    "    order_status = ()\n",
    "    total_ordered_products = len(customer_orders)\n",
    "    total_available_products = len(products)\n",
    "    total_products_ordered = len(customer_orders)\n",
    "    percentage_ordered = (total_products_ordered / total_available_products) * 100\n",
    "    order_statistics = [total_products_ordered, percentage_ordered]\n",
    "    return order_statistics"
   ]
  },
  {
   "cell_type": "code",
   "execution_count": 6,
   "id": "c9f9751c",
   "metadata": {},
   "outputs": [],
   "source": [
    "#5. Define a function named `print_order_statistics` that takes `order_statistics` as a parameter. Inside the function, implement the code for printing the order statistics.\n",
    "\n",
    "def print_order_statistics(order_statistics): \n",
    "    print(f\"Order Statistics: \\n Total Products Ordered : {order_statistics[0]} \\n Percentage of Products Ordered : {order_statistics[1]} %\")"
   ]
  },
  {
   "cell_type": "code",
   "execution_count": 7,
   "id": "9b25708b",
   "metadata": {},
   "outputs": [],
   "source": [
    "#6. Define a function named `print_updated_inventory` that takes `inventory` as a parameter. Inside the function, implement the code for printing the updated inventory.\n",
    "\n",
    "def print_updated_inventory(inventory): \n",
    "    print(\"This is the uplated inventory: \")\n",
    "    for product, quantity in inventory.items():\n",
    "        print(f\"{product}: {quantity}\")"
   ]
  },
  {
   "cell_type": "code",
   "execution_count": 1,
   "id": "9fedd032",
   "metadata": {},
   "outputs": [
    {
     "name": "stdout",
     "output_type": "stream",
     "text": [
      "¿Qué cantidad de t-shirt desea?\n",
      "¿Qué cantidad de mug desea?\n",
      "¿Qué cantidad de hat desea?\n",
      "¿Qué cantidad de book desea?\n",
      "¿Qué cantidad de keychain desea?\n",
      "{'t-shirt': '', 'mug': '', 'hat': '6', 'book': '6', 'keychain': '6'}\n",
      "Elija un producto\n",
      "Elija un producto\n",
      "Elija un producto\n",
      "Elija un producto\n"
     ]
    }
   ],
   "source": [
    "#7. Call the functions in the appropriate sequence to execute the program and manage customer orders.\n",
    "\n",
    "initialize_inventory(products)\n",
    "get_customer_orders\n",
    "update_inventory(customer_orders, inventory)\n",
    "calculate_order_statistics(customer_orders, products)\n",
    "print_order_statistics(order_statistics)\n",
    "print_updated_inventory(inventory)"
   ]
  },
  {
   "cell_type": "code",
   "execution_count": null,
   "id": "46040dab",
   "metadata": {},
   "outputs": [],
   "source": []
  }
 ],
 "metadata": {
  "kernelspec": {
   "display_name": "Python 3 (ipykernel)",
   "language": "python",
   "name": "python3"
  },
  "language_info": {
   "codemirror_mode": {
    "name": "ipython",
    "version": 3
   },
   "file_extension": ".py",
   "mimetype": "text/x-python",
   "name": "python",
   "nbconvert_exporter": "python",
   "pygments_lexer": "ipython3",
   "version": "3.9.19"
  }
 },
 "nbformat": 4,
 "nbformat_minor": 5
}
